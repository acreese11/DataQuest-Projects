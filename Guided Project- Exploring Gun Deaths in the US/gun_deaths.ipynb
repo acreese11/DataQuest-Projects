{
 "cells": [
  {
   "cell_type": "code",
   "execution_count": 1,
   "metadata": {
    "collapsed": false
   },
   "outputs": [
    {
     "name": "stdout",
     "output_type": "stream",
     "text": [
      "[['', 'year', 'month', 'intent', 'police', 'sex', 'age', 'race', 'hispanic', 'place', 'education'], ['1', '2012', '01', 'Suicide', '0', 'M', '34', 'Asian/Pacific Islander', '100', 'Home', '4'], ['2', '2012', '01', 'Suicide', '0', 'F', '21', 'White', '100', 'Street', '3'], ['3', '2012', '01', 'Suicide', '0', 'M', '60', 'White', '100', 'Other specified', '4'], ['4', '2012', '02', 'Suicide', '0', 'M', '64', 'White', '100', 'Home', '4']]\n"
     ]
    }
   ],
   "source": [
    "import csv\n",
    "\n",
    "data = list(csv.reader(open(\"guns.csv\")))\n",
    "print(data[0:5])"
   ]
  },
  {
   "cell_type": "code",
   "execution_count": 2,
   "metadata": {
    "collapsed": false
   },
   "outputs": [
    {
     "name": "stdout",
     "output_type": "stream",
     "text": [
      "['', 'year', 'month', 'intent', 'police', 'sex', 'age', 'race', 'hispanic', 'place', 'education']\n",
      "[['1', '2012', '01', 'Suicide', '0', 'M', '34', 'Asian/Pacific Islander', '100', 'Home', '4'], ['2', '2012', '01', 'Suicide', '0', 'F', '21', 'White', '100', 'Street', '3'], ['3', '2012', '01', 'Suicide', '0', 'M', '60', 'White', '100', 'Other specified', '4'], ['4', '2012', '02', 'Suicide', '0', 'M', '64', 'White', '100', 'Home', '4'], ['5', '2012', '02', 'Suicide', '0', 'M', '31', 'White', '100', 'Other specified', '2']]\n"
     ]
    }
   ],
   "source": [
    "headers = data[0]\n",
    "data = data[1:]\n",
    "print(headers)\n",
    "print(data[0:5])"
   ]
  },
  {
   "cell_type": "code",
   "execution_count": 3,
   "metadata": {
    "collapsed": false
   },
   "outputs": [
    {
     "name": "stdout",
     "output_type": "stream",
     "text": [
      "{'2014': 33599, '2013': 33636, '2012': 33563}\n"
     ]
    }
   ],
   "source": [
    "years = [row[1] for row in data]\n",
    "year_counts = {}\n",
    "\n",
    "for i in years:\n",
    "    if i in year_counts:\n",
    "        year_counts[i] = year_counts[i] + 1\n",
    "    else:\n",
    "        year_counts[i] = 1\n",
    "        \n",
    "print(year_counts)"
   ]
  },
  {
   "cell_type": "code",
   "execution_count": 4,
   "metadata": {
    "collapsed": false
   },
   "outputs": [
    {
     "name": "stdout",
     "output_type": "stream",
     "text": [
      "[datetime.datetime(2012, 1, 1, 0, 0), datetime.datetime(2012, 1, 1, 0, 0), datetime.datetime(2012, 1, 1, 0, 0), datetime.datetime(2012, 2, 1, 0, 0), datetime.datetime(2012, 2, 1, 0, 0)]\n",
      "{'07/2012': 3026, '10/2013': 2808, '12/2014': 2857, '07/2014': 2884, '07/2013': 3079, '01/2013': 2864, '11/2014': 2756, '05/2014': 2864, '08/2013': 2859, '11/2013': 2758, '06/2013': 2920, '01/2012': 2758, '02/2013': 2375, '03/2012': 2743, '03/2013': 2862, '04/2013': 2798, '12/2013': 2765, '09/2012': 2852, '08/2014': 2970, '01/2014': 2651, '12/2012': 2791, '04/2014': 2862, '06/2012': 2826, '11/2012': 2729, '09/2014': 2914, '09/2013': 2742, '02/2012': 2357, '03/2014': 2684, '08/2012': 2954, '06/2014': 2931, '05/2012': 2999, '10/2012': 2733, '10/2014': 2865, '04/2012': 2795, '02/2014': 2361, '05/2013': 2806}\n"
     ]
    }
   ],
   "source": [
    "import datetime\n",
    "\n",
    "dates = [datetime.datetime(year = int(row[1]), month = int(row[2]), day = 1) for row in data]\n",
    "print(dates[0:5])\n",
    "\n",
    "date_counts = {}\n",
    "for i in dates:\n",
    "    date_str = i.strftime(\"%m/%Y\")\n",
    "    if date_str in date_counts:\n",
    "        date_counts[date_str] = date_counts[date_str] + 1\n",
    "    else:\n",
    "        date_counts[date_str] = 1\n",
    "\n",
    "print(date_counts)"
   ]
  },
  {
   "cell_type": "code",
   "execution_count": 5,
   "metadata": {
    "collapsed": false
   },
   "outputs": [
    {
     "name": "stdout",
     "output_type": "stream",
     "text": [
      "{'M': 86349, 'F': 14449}\n",
      "{'White': 66237, 'Black': 23296, 'Asian/Pacific Islander': 1326, 'Native American/Native Alaskan': 917, 'Hispanic': 9022}\n"
     ]
    }
   ],
   "source": [
    "sex_counts = {}\n",
    "for row in data:\n",
    "    if row[5] in sex_counts:\n",
    "        sex_counts[row[5]] += 1\n",
    "    else:\n",
    "        sex_counts[row[5]] = 1\n",
    "        \n",
    "race_counts = {}\n",
    "for row in data:\n",
    "    if row[7] in race_counts:\n",
    "        race_counts[row[7]] += 1\n",
    "    else:\n",
    "        race_counts[row[7]] = 1\n",
    "        \n",
    "print(sex_counts)\n",
    "print(race_counts)"
   ]
  },
  {
   "cell_type": "markdown",
   "metadata": {},
   "source": [
    "<h1>Takeaways</h1>\n",
    "<br>\n",
    "I still need some practice with date/time functions and with list comprehensions. "
   ]
  },
  {
   "cell_type": "code",
   "execution_count": 6,
   "metadata": {
    "collapsed": false
   },
   "outputs": [
    {
     "name": "stdout",
     "output_type": "stream",
     "text": [
      "[['Id', 'Year', 'Id', 'Sex', 'Id', 'Hispanic Origin', 'Id', 'Id2', 'Geography', 'Total', 'Race Alone - White', 'Race Alone - Hispanic', 'Race Alone - Black or African American', 'Race Alone - American Indian and Alaska Native', 'Race Alone - Asian', 'Race Alone - Native Hawaiian and Other Pacific Islander', 'Two or More Races'], ['cen42010', 'April 1, 2010 Census', 'totsex', 'Both Sexes', 'tothisp', 'Total', '0100000US', '', 'United States', '308745538', '197318956', '44618105', '40250635', '3739506', '15159516', '674625', '6984195']]\n"
     ]
    }
   ],
   "source": [
    "census = list(csv.reader(open(\"census.csv\")))\n",
    "print(census)"
   ]
  },
  {
   "cell_type": "code",
   "execution_count": 10,
   "metadata": {
    "collapsed": false
   },
   "outputs": [
    {
     "name": "stdout",
     "output_type": "stream",
     "text": [
      "{'White': 197318956, 'Black': 40250635, 'Asian/Pacific Islander': 15834141, 'Native American/Native Alaskan': 3739506, 'Hispanic': 44618105}\n",
      "{'White': 3.356849303419181, 'Black': 5.78773477735196, 'Asian/Pacific Islander': 0.8374309664161763, 'Native American/Native Alaskan': 2.452195557381109, 'Hispanic': 2.022049121091091}\n"
     ]
    }
   ],
   "source": [
    "mapping = {\n",
    "    \"White\": int(census[1][10]),\n",
    "    \"Black\": int(census[1][12]),\n",
    "    \"Asian/Pacific Islander\": int(census[1][14]) + int(census[1][15]),\n",
    "    \"Native American/Native Alaskan\": int(census[1][13]),\n",
    "    \"Hispanic\": int(census[1][11])\n",
    "}\n",
    "\n",
    "print(mapping)\n",
    "\n",
    "race_per_hundredk = {}\n",
    "\n",
    "for i in race_counts:\n",
    "    race_per_hundredk[i] = race_counts[i] / mapping[i] * 10000\n",
    "    \n",
    "print(race_per_hundredk)"
   ]
  },
  {
   "cell_type": "code",
   "execution_count": 15,
   "metadata": {
    "collapsed": false
   },
   "outputs": [
    {
     "name": "stdout",
     "output_type": "stream",
     "text": [
      "{'White': 9147, 'Black': 19510, 'Asian/Pacific Islander': 559, 'Native American/Native Alaskan': 326, 'Hispanic': 5634}\n"
     ]
    }
   ],
   "source": [
    "intents = [row[3] for row in data]\n",
    "races = [row[7] for row in data]\n",
    "\n",
    "homicide_race_per_hundredk = {}\n",
    "\n",
    "for i, race in enumerate(races):\n",
    "    if intents[i] == \"Homicide\":\n",
    "        if race not in homicide_race_per_hundredk:\n",
    "            homicide_race_per_hundredk[race] = 0\n",
    "        homicide_race_per_hundredk[race] += 1\n",
    "    \n",
    "print(homicide_race_per_hundredk)"
   ]
  },
  {
   "cell_type": "code",
   "execution_count": 16,
   "metadata": {
    "collapsed": false
   },
   "outputs": [
    {
     "name": "stdout",
     "output_type": "stream",
     "text": [
      "{'White': 4.6356417981453335, 'Black': 48.471284987180944, 'Asian/Pacific Islander': 3.530346230970155, 'Native American/Native Alaskan': 8.717729026240365, 'Hispanic': 12.627161104219914}\n"
     ]
    }
   ],
   "source": [
    "for i in homicide_race_per_hundredk:\n",
    "    homicide_race_per_hundredk[i] = homicide_race_per_hundredk[i] / mapping[i] * 100000\n",
    "    \n",
    "print(homicide_race_per_hundredk)"
   ]
  },
  {
   "cell_type": "code",
   "execution_count": null,
   "metadata": {
    "collapsed": true
   },
   "outputs": [],
   "source": []
  }
 ],
 "metadata": {
  "kernelspec": {
   "display_name": "Python 3",
   "language": "python",
   "name": "python3"
  },
  "language_info": {
   "codemirror_mode": {
    "name": "ipython",
    "version": 3
   },
   "file_extension": ".py",
   "mimetype": "text/x-python",
   "name": "python",
   "nbconvert_exporter": "python",
   "pygments_lexer": "ipython3",
   "version": "3.4.3"
  }
 },
 "nbformat": 4,
 "nbformat_minor": 0
}
